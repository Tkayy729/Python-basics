{
 "cells": [
  {
   "cell_type": "code",
   "execution_count": 18,
   "id": "6a862d8f",
   "metadata": {},
   "outputs": [],
   "source": [
    "import pandas as pd\n",
    "import numpy as np\n"
   ]
  },
  {
   "cell_type": "code",
   "execution_count": 39,
   "id": "05463092",
   "metadata": {},
   "outputs": [
    {
     "name": "stdout",
     "output_type": "stream",
     "text": [
      "[[ 102.61  105.37  102.00  105.35  100.27  67649400.00]\n",
      " [ 105.75  105.85  102.41  102.71  97.76  55791000.00]\n",
      " [ 100.56  102.37  99.87  100.70  95.85  68457400.00]\n",
      " ...\n",
      " [ 115.59  116.52  115.59  116.52  113.37  14249500.00]\n",
      " [ 116.52  117.80  116.49  117.26  114.09  18296900.00]\n",
      " [ 117.52  118.02  116.20  116.76  113.61  20905900.00]]\n"
     ]
    }
   ],
   "source": [
    "np.set_printoptions(formatter={'float': '{: 6.2f}'.format})\n",
    "df2016 = np.genfromtxt('AAPL-2016.csv', delimiter=',', skip_header = 1)\n",
    "df2017 = np.genfromtxt('AAPL-2017.csv', delimiter=',', skip_header = 1)\n",
    "t_df2016 = np.delete(df2016, (0), axis=1)\n",
    "print(t_df2016)"
   ]
  },
  {
   "cell_type": "code",
   "execution_count": 22,
   "id": "482e7f1b",
   "metadata": {},
   "outputs": [
    {
     "name": "stdout",
     "output_type": "stream",
     "text": [
      "shape of 2016 (250, 7)\n",
      "shape of 2017 (251, 7)\n"
     ]
    }
   ],
   "source": [
    "print(\"shape of 2016\",df2016.shape)\n",
    "print(\"shape of 2017\",df2017.shape)"
   ]
  },
  {
   "cell_type": "code",
   "execution_count": 14,
   "id": "ba2f6304",
   "metadata": {},
   "outputs": [
    {
     "data": {
      "text/plain": [
       "array([           nan, 3.77616700e+04, 3.80029200e+04, 3.75214001e+04,\n",
       "       3.77883199e+04, 3.71010567e+04, 6.81042620e+09])"
      ]
     },
     "execution_count": 14,
     "metadata": {},
     "output_type": "execute_result"
    }
   ],
   "source": [
    "df2017.sum(axis=0)"
   ]
  },
  {
   "cell_type": "code",
   "execution_count": 32,
   "id": "34ccd12d",
   "metadata": {},
   "outputs": [
    {
     "name": "stdout",
     "output_type": "stream",
     "text": [
      "[[ 115.80  116.33  114.76  116.15  113.01  28781900.00]\n",
      " [ 115.85  116.51  115.75  116.02  112.89  21118100.00]\n",
      " [ 115.92  116.86  115.81  116.61  113.46  22193600.00]\n",
      " ...\n",
      " [ 170.10  170.78  169.71  170.60  168.66  21498200.00]\n",
      " [ 171.00  171.85  170.48  171.08  169.14  16480200.00]\n",
      " [ 170.52  170.59  169.22  169.23  167.31  25884400.00]]\n"
     ]
    }
   ],
   "source": [
    "empty_array = []\n",
    "for each_column in df2017:\n",
    "    empty_array.append(each_column[1:])\n",
    "\n",
    "t_df2017 = np.asarray(empty_array)\n",
    "print(t_df2017)"
   ]
  },
  {
   "cell_type": "code",
   "execution_count": 29,
   "id": "e5c21276",
   "metadata": {},
   "outputs": [
    {
     "data": {
      "text/plain": [
       "array([   nan,  37761.67,  38002.92,  37521.40,  37788.32,  37101.06,\n",
       "        6810426200.00])"
      ]
     },
     "execution_count": 29,
     "metadata": {},
     "output_type": "execute_result"
    }
   ],
   "source": [
    "df2017.sum(axis=0)"
   ]
  },
  {
   "cell_type": "code",
   "execution_count": null,
   "id": "78ff154a",
   "metadata": {},
   "outputs": [],
   "source": []
  }
 ],
 "metadata": {
  "kernelspec": {
   "display_name": "Python 3 (ipykernel)",
   "language": "python",
   "name": "python3"
  },
  "language_info": {
   "codemirror_mode": {
    "name": "ipython",
    "version": 3
   },
   "file_extension": ".py",
   "mimetype": "text/x-python",
   "name": "python",
   "nbconvert_exporter": "python",
   "pygments_lexer": "ipython3",
   "version": "3.9.13"
  }
 },
 "nbformat": 4,
 "nbformat_minor": 5
}
