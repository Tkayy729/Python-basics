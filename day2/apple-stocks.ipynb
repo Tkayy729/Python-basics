{
 "cells": [
  {
   "cell_type": "code",
   "execution_count": 1,
   "id": "6a862d8f",
   "metadata": {},
   "outputs": [],
   "source": [
    "import pandas as pd\n",
    "import numpy as np\n"
   ]
  },
  {
   "cell_type": "code",
   "execution_count": 2,
   "id": "05463092",
   "metadata": {},
   "outputs": [
    {
     "name": "stdout",
     "output_type": "stream",
     "text": [
      "[[ 102.61  105.37  102.00  105.35  100.27  67649400.00]\n",
      " [ 105.75  105.85  102.41  102.71  97.76  55791000.00]\n",
      " [ 100.56  102.37  99.87  100.70  95.85  68457400.00]\n",
      " ...\n",
      " [ 115.59  116.52  115.59  116.52  113.37  14249500.00]\n",
      " [ 116.52  117.80  116.49  117.26  114.09  18296900.00]\n",
      " [ 117.52  118.02  116.20  116.76  113.61  20905900.00]]\n"
     ]
    }
   ],
   "source": [
    "np.set_printoptions(formatter={'float': '{: 6.2f}'.format})\n",
    "df2016 = np.genfromtxt('AAPL-2016.csv', delimiter=',', skip_header = 1)\n",
    "df2017 = np.genfromtxt('AAPL-2017.csv', delimiter=',', skip_header = 1)\n",
    "t_df2016 = np.delete(df2016, (0), axis=1)\n",
    "print(t_df2016)"
   ]
  },
  {
   "cell_type": "code",
   "execution_count": 3,
   "id": "482e7f1b",
   "metadata": {},
   "outputs": [
    {
     "name": "stdout",
     "output_type": "stream",
     "text": [
      "shape of 2016 (250, 7)\n",
      "shape of 2017 (251, 7)\n"
     ]
    }
   ],
   "source": [
    "print(\"shape of 2016\",df2016.shape)\n",
    "print(\"shape of 2017\",df2017.shape)"
   ]
  },
  {
   "cell_type": "code",
   "execution_count": 5,
   "id": "ba2f6304",
   "metadata": {},
   "outputs": [
    {
     "data": {
      "text/plain": [
       "array([ 26102.86,  26333.34,  25898.12,  26127.66,  25175.42,\n",
       "        9634995700.00])"
      ]
     },
     "execution_count": 5,
     "metadata": {},
     "output_type": "execute_result"
    }
   ],
   "source": [
    "t_df2016.sum(axis=0)"
   ]
  },
  {
   "cell_type": "code",
   "execution_count": 8,
   "id": "34ccd12d",
   "metadata": {},
   "outputs": [
    {
     "name": "stdout",
     "output_type": "stream",
     "text": [
      "[[ 115.80  116.33  114.76  116.15  113.01  28781900.00]\n",
      " [ 115.85  116.51  115.75  116.02  112.89  21118100.00]\n",
      " [ 115.92  116.86  115.81  116.61  113.46  22193600.00]\n",
      " ...\n",
      " [ 170.10  170.78  169.71  170.60  168.66  21498200.00]\n",
      " [ 171.00  171.85  170.48  171.08  169.14  16480200.00]\n",
      " [ 170.52  170.59  169.22  169.23  167.31  25884400.00]]\n"
     ]
    }
   ],
   "source": [
    "empty_array = []\n",
    "for each_column in df2017:\n",
    "    empty_array.append(each_column[1:])\n",
    "\n",
    "t_df2017 = np.asarray(empty_array)\n",
    "print(t_df2017)"
   ]
  },
  {
   "cell_type": "code",
   "execution_count": 9,
   "id": "e5c21276",
   "metadata": {},
   "outputs": [
    {
     "data": {
      "text/plain": [
       "array([ 37761.67,  38002.92,  37521.40,  37788.32,  37101.06,\n",
       "        6810426200.00])"
      ]
     },
     "execution_count": 9,
     "metadata": {},
     "output_type": "execute_result"
    }
   ],
   "source": [
    "t_df2017.sum(axis=0)"
   ]
  },
  {
   "cell_type": "code",
   "execution_count": 11,
   "id": "78ff154a",
   "metadata": {},
   "outputs": [
    {
     "ename": "ValueError",
     "evalue": "operands could not be broadcast together with shapes (251,6) (250,6) ",
     "output_type": "error",
     "traceback": [
      "\u001b[1;31m---------------------------------------------------------------------------\u001b[0m",
      "\u001b[1;31mValueError\u001b[0m                                Traceback (most recent call last)",
      "\u001b[1;32m~\\AppData\\Local\\Temp\\ipykernel_18664\\3921719017.py\u001b[0m in \u001b[0;36m<module>\u001b[1;34m\u001b[0m\n\u001b[1;32m----> 1\u001b[1;33m \u001b[0mt_df2017\u001b[0m \u001b[1;33m-\u001b[0m \u001b[0mt_df2016\u001b[0m\u001b[1;33m\u001b[0m\u001b[1;33m\u001b[0m\u001b[0m\n\u001b[0m",
      "\u001b[1;31mValueError\u001b[0m: operands could not be broadcast together with shapes (251,6) (250,6) "
     ]
    }
   ],
   "source": [
    "conda install numpy"
   ]
  },
  {
   "cell_type": "code",
   "execution_count": 12,
   "id": "bee39ba5",
   "metadata": {},
   "outputs": [
    {
     "name": "stdout",
     "output_type": "stream",
     "text": [
      "shape of 2016 (250, 6)\n",
      "shape of 2017 (251, 6)\n"
     ]
    }
   ],
   "source": [
    "print(\"shape of 2016\",t_df2016.shape)\n",
    "print(\"shape of 2017\",t_df2017.shape)"
   ]
  },
  {
   "cell_type": "code",
   "execution_count": 13,
   "id": "9b5c7251",
   "metadata": {},
   "outputs": [],
   "source": [
    "tt_df2017 = t_df2017[0:-1]"
   ]
  },
  {
   "cell_type": "code",
   "execution_count": 14,
   "id": "64c4bebe",
   "metadata": {},
   "outputs": [
    {
     "name": "stdout",
     "output_type": "stream",
     "text": [
      "(250, 6)\n"
     ]
    }
   ],
   "source": [
    "print(tt_df2017.shape)"
   ]
  },
  {
   "cell_type": "code",
   "execution_count": 17,
   "id": "55ec3d33",
   "metadata": {},
   "outputs": [
    {
     "data": {
      "text/plain": [
       "array([ 11488.29,  11498.99,  11454.06,  11491.43,  11758.32,\n",
       "        2850453900.00])"
      ]
     },
     "execution_count": 17,
     "metadata": {},
     "output_type": "execute_result"
    }
   ],
   "source": [
    "tt_df2017.sum(axis=0) - t_df2016.sum(axis=0)"
   ]
  },
  {
   "cell_type": "code",
   "execution_count": 19,
   "id": "4078e6bb",
   "metadata": {},
   "outputs": [
    {
     "name": "stdout",
     "output_type": "stream",
     "text": [
      "[[ 115.80  116.33  114.76  116.15  113.01  28781900.00]\n",
      " [ 115.85  116.51  115.75  116.02  112.89  21118100.00]\n",
      " [ 115.92  116.86  115.81  116.61  113.46  22193600.00]\n",
      " ...\n",
      " [ 170.80  171.47  169.68  170.57  168.63  33185500.00]\n",
      " [ 170.10  170.78  169.71  170.60  168.66  21498200.00]\n",
      " [ 171.00  171.85  170.48  171.08  169.14  16480200.00]]\n",
      "**\n",
      "[[ 102.61  105.37  102.00  105.35  100.27  67649400.00]\n",
      " [ 105.75  105.85  102.41  102.71  97.76  55791000.00]\n",
      " [ 100.56  102.37  99.87  100.70  95.85  68457400.00]\n",
      " ...\n",
      " [ 115.59  116.52  115.59  116.52  113.37  14249500.00]\n",
      " [ 116.52  117.80  116.49  117.26  114.09  18296900.00]\n",
      " [ 117.52  118.02  116.20  116.76  113.61  20905900.00]]\n"
     ]
    }
   ],
   "source": [
    "print(tt_df2017)\n",
    "print('**')\n",
    "print(t_df2016)"
   ]
  },
  {
   "cell_type": "code",
   "execution_count": 23,
   "id": "74ee0575",
   "metadata": {},
   "outputs": [
    {
     "name": "stdout",
     "output_type": "stream",
     "text": [
      "[[ 13.19  10.96  12.76  10.80  12.74 -38867500.00]\n",
      " [ 10.10  10.66  13.34  13.31  15.13 -34672900.00]\n",
      " [ 15.36  14.49  15.94  15.91  17.61 -46263800.00]\n",
      " ...\n",
      " [ 55.21  54.95  54.09  54.05  55.26  18936000.00]\n",
      " [ 53.58  52.98  53.22  53.34  54.57  3201300.00]\n",
      " [ 53.48  53.83  54.28  54.32  55.53 -4425700.00]]\n"
     ]
    }
   ],
   "source": [
    "change = tt_df2017 - t_df2016\n",
    "print(change)"
   ]
  },
  {
   "cell_type": "code",
   "execution_count": 25,
   "id": "d9144010",
   "metadata": {},
   "outputs": [
    {
     "name": "stdout",
     "output_type": "stream",
     "text": [
      "[ 11488.29  11498.99  11454.06  11491.43  11758.32 -2850453900.00]\n"
     ]
    }
   ],
   "source": [
    "sum_diff = change.sum(axis=0)\n",
    "print(sum_diff)"
   ]
  },
  {
   "cell_type": "code",
   "execution_count": 27,
   "id": "8a5ecbca",
   "metadata": {},
   "outputs": [
    {
     "name": "stdout",
     "output_type": "stream",
     "text": [
      "-2850453900.0\n"
     ]
    }
   ],
   "source": [
    "sum_diff_volume = sum_diff[5]\n",
    "print(sum_diff_volume)"
   ]
  },
  {
   "cell_type": "code",
   "execution_count": 72,
   "id": "9ee03766",
   "metadata": {},
   "outputs": [],
   "source": [
    "combined_years = np.append(t_df2016,tt_df2017, 0)"
   ]
  },
  {
   "cell_type": "code",
   "execution_count": 73,
   "id": "30f8c20d",
   "metadata": {},
   "outputs": [
    {
     "data": {
      "text/plain": [
       "250"
      ]
     },
     "execution_count": 73,
     "metadata": {},
     "output_type": "execute_result"
    }
   ],
   "source": [
    "len(combined_years)"
   ]
  },
  {
   "cell_type": "code",
   "execution_count": 71,
   "id": "b83b7bdc",
   "metadata": {},
   "outputs": [
    {
     "name": "stdout",
     "output_type": "stream",
     "text": [
      "[[ 102.61  105.37  102.00  105.35  100.27  67649400.00]\n",
      " [ 105.75  105.85  102.41  102.71  97.76  55791000.00]\n",
      " [ 100.56  102.37  99.87  100.70  95.85  68457400.00]\n",
      " ...\n",
      " [ 170.80  171.47  169.68  170.57  168.63  33185500.00]\n",
      " [ 170.10  170.78  169.71  170.60  168.66  21498200.00]\n",
      " [ 171.00  171.85  170.48  171.08  169.14  16480200.00]]\n"
     ]
    }
   ],
   "source": [
    "print(combined_years)"
   ]
  },
  {
   "cell_type": "code",
   "execution_count": null,
   "id": "9e09a7c2",
   "metadata": {},
   "outputs": [],
   "source": []
  }
 ],
 "metadata": {
  "kernelspec": {
   "display_name": "Python 3 (ipykernel)",
   "language": "python",
   "name": "python3"
  },
  "language_info": {
   "codemirror_mode": {
    "name": "ipython",
    "version": 3
   },
   "file_extension": ".py",
   "mimetype": "text/x-python",
   "name": "python",
   "nbconvert_exporter": "python",
   "pygments_lexer": "ipython3",
   "version": "3.9.13"
  }
 },
 "nbformat": 4,
 "nbformat_minor": 5
}
